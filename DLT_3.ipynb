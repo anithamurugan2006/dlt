{
  "nbformat": 4,
  "nbformat_minor": 0,
  "metadata": {
    "colab": {
      "provenance": [],
      "authorship_tag": "ABX9TyMfUoZwbntyEhWbpeBNXGFM",
      "include_colab_link": true
    },
    "kernelspec": {
      "name": "python3",
      "display_name": "Python 3"
    },
    "language_info": {
      "name": "python"
    }
  },
  "cells": [
    {
      "cell_type": "markdown",
      "metadata": {
        "id": "view-in-github",
        "colab_type": "text"
      },
      "source": [
        "<a href=\"https://colab.research.google.com/github/anithamurugan2006/dlt/blob/main/DLT_3.ipynb\" target=\"_parent\"><img src=\"https://colab.research.google.com/assets/colab-badge.svg\" alt=\"Open In Colab\"/></a>"
      ]
    },
    {
      "cell_type": "code",
      "execution_count": null,
      "metadata": {
        "id": "PR0kMijBDExM",
        "colab": {
          "base_uri": "https://localhost:8080/",
          "height": 663
        },
        "outputId": "8e8470dc-c3f5-4838-d2ca-5ef3f7187bf2"
      },
      "outputs": [
        {
          "output_type": "stream",
          "name": "stdout",
          "text": [
            "Epoch 0, Loss: 0.4813\n",
            "Epoch 100, Loss: 0.0181\n",
            "Epoch 200, Loss: 0.0094\n",
            "Epoch 300, Loss: 0.0059\n",
            "Epoch 400, Loss: 0.0037\n",
            "Epoch 500, Loss: 0.0027\n",
            "Epoch 600, Loss: 0.0021\n",
            "Epoch 700, Loss: 0.0017\n",
            "Epoch 800, Loss: 0.0015\n",
            "Epoch 900, Loss: 0.0013\n",
            "Test Accuracy: 95.61%\n"
          ]
        },
        {
          "output_type": "display_data",
          "data": {
            "text/plain": [
              "<Figure size 640x480 with 1 Axes>"
            ],
            "image/png": "[encoded data removed]"
          },
          "metadata": {}
        }
      ],
      "source": [
        "import numpy as np\n",
        "from sklearn.model_selection import train_test_split\n",
        "from sklearn.preprocessing import StandardScaler\n",
        "from sklearn.datasets import load_breast_cancer\n",
        "import matplotlib.pyplot as plt\n",
        "# Load dataset\n",
        "data = load_breast_cancer()\n",
        "X = data.data\n",
        "y = data.target.reshape(-1, 1)\n",
        "# Normalize\n",
        "scaler = StandardScaler()\n",
        "X = scaler.fit_transform(X)\n",
        "# Train-test split\n",
        "X_train, X_test, y_train, y_test = train_test_split(X, y, test_size=0.2, random_state=1)\n",
        "# Initialize weights and biases\n",
        "input_dim = X.shape[1]\n",
        "hidden_dim = 10\n",
        "output_dim = 1\n",
        "W1 = np.random.randn(input_dim, hidden_dim)\n",
        "b1 = np.zeros((1, hidden_dim))\n",
        "W2 = np.random.randn(hidden_dim, output_dim)\n",
        "b2 = np.zeros((1, output_dim))\n",
        "def sigmoid(z): return 1 / (1 + np.exp(-z))\n",
        "def tanh_derivative(a): return 1 - np.power(a, 2)\n",
        "epochs = 1000\n",
        "lr = 0.01\n",
        "losses = []\n",
        "for epoch in range(epochs):\n",
        "    # Forward pass\n",
        "    Z1 = np.dot(X_train, W1) + b1\n",
        "    A1 = np.tanh(Z1)\n",
        "    Z2 = np.dot(A1, W2) + b2\n",
        "    A2 = sigmoid(Z2)\n",
        "    # Loss\n",
        "    loss = -np.mean(y_train * np.log(A2 + 1e-9) + (1 - y_train) * np.log(1 - A2 + 1e-9))\n",
        "    losses.append(loss)\n",
        "    # Backward pass\n",
        "    dZ2 = A2 - y_train\n",
        "    dW2 = np.dot(A1.T, dZ2)\n",
        "    db2 = np.sum(dZ2, axis=0, keepdims=True)\n",
        "    dA1 = np.dot(dZ2, W2.T)\n",
        "    dZ1 = dA1 * tanh_derivative(A1)\n",
        "    dW1 = np.dot(X_train.T, dZ1)\n",
        "    db1 = np.sum(dZ1, axis=0)\n",
        "    # Update\n",
        "    W1 -= lr * dW1\n",
        "    b1 -= lr * db1\n",
        "    W2 -= lr * dW2\n",
        "    b2 -= lr * db2\n",
        "    if epoch % 100 == 0:\n",
        "        print(f\"Epoch {epoch}, Loss: {loss:.4f}\")\n",
        "# Prediction\n",
        "Z1_test = np.dot(X_test, W1) + b1\n",
        "A1_test = np.tanh(Z1_test)\n",
        "Z2_test = np.dot(A1_test, W2) + b2\n",
        "A2_test = sigmoid(Z2_test)\n",
        "y_pred = (A2_test > 0.5).astype(int)\n",
        "accuracy = np.mean(y_pred == y_test) * 100\n",
        "print(f\"Test Accuracy: {accuracy:.2f}%\")\n",
        "# Plot loss curve\n",
        "plt.plot(losses)\n",
        "plt.title(\"Loss Curve\")\n",
        "plt.xlabel(\"Epochs\")\n",
        "plt.ylabel(\"Loss\")\n",
        "plt.show()"
      ]
    }
  ]
}