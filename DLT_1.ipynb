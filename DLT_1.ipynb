{
  "nbformat": 4,
  "nbformat_minor": 0,
  "metadata": {
    "colab": {
      "provenance": [],
      "authorship_tag": "ABX9TyO1KzvZtVgZAYCeL05k/0Vg",
      "include_colab_link": true
    },
    "kernelspec": {
      "name": "python3",
      "display_name": "Python 3"
    },
    "language_info": {
      "name": "python"
    }
  },
  "cells": [
    {
      "cell_type": "markdown",
      "metadata": {
        "id": "view-in-github",
        "colab_type": "text"
      },
      "source": [
        "<a href=\"https://colab.research.google.com/github/anithamurugan2006/dlt/blob/main/DLT_1.ipynb\" target=\"_parent\"><img src=\"https://colab.research.google.com/assets/colab-badge.svg\" alt=\"Open In Colab\"/></a>"
      ]
    },
    {
      "cell_type": "code",
      "execution_count": null,
      "metadata": {
        "colab": {
          "base_uri": "https://localhost:8080/"
        },
        "id": "stSgKnGADxYo",
        "outputId": "78e77686-9021-444d-8a0e-396885d6dfd8"
      },
      "outputs": [
        {
          "output_type": "stream",
          "name": "stdout",
          "text": [
            "AND\n",
            "(0, 0) -> 0\n",
            "(0, 1) -> 0\n",
            "(1, 0) -> 0\n",
            "(1, 1) -> 1\n",
            "\n",
            "OR\n",
            "(0, 0) -> 0\n",
            "(0, 1) -> 1\n",
            "(1, 0) -> 1\n",
            "(1, 1) -> 1\n",
            "\n",
            "NOT\n",
            "0 -> 1\n",
            "1 -> 0\n",
            "\n",
            "NOR\n",
            "(0, 0) -> 1\n",
            "(0, 1) -> 0\n",
            "(1, 0) -> 0\n",
            "(1, 1) -> 0\n",
            "\n",
            "XOR\n",
            "(0, 0) -> 0\n",
            "(0, 1) -> 1\n",
            "(1, 0) -> 1\n",
            "(1, 1) -> 0\n"
          ]
        }
      ],
      "source": [
        "def mcp_neuron(inputs, weights, threshold):\n",
        "    summation = sum(i * w for i, w in zip(inputs, weights))\n",
        "    return 1 if summation >= threshold else 0\n",
        "# AND Gate\n",
        "def AND(x1, x2):\n",
        "    return mcp_neuron([x1, x2], [1, 1], 2)\n",
        "# OR Gate\n",
        "def OR(x1, x2):\n",
        "    return mcp_neuron([x1, x2], [1, 1], 1)\n",
        "# NOT Gate\n",
        "def NOT(x1):\n",
        "    return mcp_neuron([x1], [-1], 0)\n",
        "# NOR Gate\n",
        "def NOR(x1, x2):\n",
        "    return mcp_neuron([x1, x2], [-1, -1], 0)\n",
        "# XOR Gate (using hard-coded logic)\n",
        "def XOR(x1, x2):\n",
        "    return (x1 ^ x2)  # XOR can't be represented by single-layer MCP\n",
        "# Testing\n",
        "print(\"AND\")\n",
        "for x in [(0,0), (0,1), (1,0), (1,1)]:\n",
        "    print(f\"{x} -> {AND(*x)}\")\n",
        "print(\"\\nOR\")\n",
        "for x in [(0,0), (0,1), (1,0), (1,1)]:\n",
        "    print(f\"{x} -> {OR(*x)}\")\n",
        "print(\"\\nNOT\")\n",
        "for x in [0, 1]:\n",
        "    print(f\"{x} -> {NOT(x)}\")\n",
        "print(\"\\nNOR\")\n",
        "for x in [(0,0), (0,1), (1,0), (1,1)]:\n",
        "    print(f\"{x} -> {NOR(*x)}\")\n",
        "print(\"\\nXOR\")\n",
        "for x in [(0,0), (0,1), (1,0), (1,1)]:\n",
        "        print(f\"{x} -> {XOR(*x)}\")\n"
      ]
    },
    {
      "cell_type": "markdown",
      "source": [],
      "metadata": {
        "id": "ivbwehd0E9Uw"
      }
    }
  ]
}